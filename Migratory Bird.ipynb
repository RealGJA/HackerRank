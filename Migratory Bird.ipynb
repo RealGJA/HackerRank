{
 "cells": [
  {
   "cell_type": "code",
   "execution_count": 22,
   "metadata": {},
   "outputs": [
    {
     "data": {
      "text/plain": [
       "[1, 3, 4, 4, 4, 5]"
      ]
     },
     "execution_count": 22,
     "metadata": {},
     "output_type": "execute_result"
    }
   ],
   "source": [
    "#arr = [1,2,3,4,5,4,3,2,1,3,4]\n",
    "arr = [1,4,4,4,5,3]\n",
    "arr = sorted(arr)\n",
    "arr"
   ]
  },
  {
   "cell_type": "code",
   "execution_count": 24,
   "metadata": {},
   "outputs": [
    {
     "data": {
      "text/plain": [
       "3"
      ]
     },
     "execution_count": 24,
     "metadata": {},
     "output_type": "execute_result"
    }
   ],
   "source": [
    "cnt = 0\n",
    "maxcnt = 0\n",
    "mode = 0\n",
    "modelist = []\n",
    "\n",
    "for i in range(len(arr)-1):\n",
    "    if arr[i] == arr[i+1]:\n",
    "        cnt = cnt+1\n",
    "        if maxcnt <= cnt:\n",
    "            maxcnt = cnt+1\n",
    "    else:\n",
    "        cnt = 0\n",
    "\n",
    "for i in range(len(arr)-1):\n",
    "    if arr[i] == arr[i+1]:\n",
    "        cnt = cnt+1\n",
    "        if maxcnt == cnt+1:\n",
    "            modelist.append(arr[i])\n",
    "    else:\n",
    "        cnt = 0\n",
    "        \n",
    "maxcnt"
   ]
  },
  {
   "cell_type": "code",
   "execution_count": 25,
   "metadata": {},
   "outputs": [
    {
     "data": {
      "text/plain": [
       "4"
      ]
     },
     "execution_count": 25,
     "metadata": {},
     "output_type": "execute_result"
    }
   ],
   "source": [
    "min(modelist)"
   ]
  },
  {
   "cell_type": "code",
   "execution_count": null,
   "metadata": {},
   "outputs": [],
   "source": []
  }
 ],
 "metadata": {
  "kernelspec": {
   "display_name": "Python 3",
   "language": "python",
   "name": "python3"
  },
  "language_info": {
   "codemirror_mode": {
    "name": "ipython",
    "version": 3
   },
   "file_extension": ".py",
   "mimetype": "text/x-python",
   "name": "python",
   "nbconvert_exporter": "python",
   "pygments_lexer": "ipython3",
   "version": "3.7.3"
  }
 },
 "nbformat": 4,
 "nbformat_minor": 2
}
