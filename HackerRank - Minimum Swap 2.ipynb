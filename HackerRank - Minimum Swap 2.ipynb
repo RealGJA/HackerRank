{
 "cells": [
  {
   "cell_type": "code",
   "execution_count": 1,
   "metadata": {},
   "outputs": [
    {
     "data": {
      "text/plain": [
       "2"
      ]
     },
     "execution_count": 1,
     "metadata": {},
     "output_type": "execute_result"
    }
   ],
   "source": [
    "def minSwaps(arr): \n",
    "    n = len(arr) \n",
    "      \n",
    "    # Create two arrays and use  \n",
    "    # as pairs where first array  \n",
    "    # is element and second array \n",
    "    # is position of first element \n",
    "    arrpos = [*enumerate(arr)] \n",
    "      \n",
    "    # Sort the array by array element  \n",
    "    # values to get right position of  \n",
    "    # every element as the elements  \n",
    "    # of second array. \n",
    "    arrpos.sort(key = lambda it:it[1]) \n",
    "      \n",
    "    # To keep track of visited elements.  \n",
    "    # Initialize all elements as not  \n",
    "    # visited or false. \n",
    "    vis = {k:False for k in range(n)} \n",
    "      \n",
    "    # Initialize result \n",
    "    ans = 0\n",
    "    for i in range(n): \n",
    "          \n",
    "        # alreadt swapped or  \n",
    "        # alreadt present at  \n",
    "        # correct position \n",
    "        if vis[i] or arrpos[i][0] == i: \n",
    "            continue\n",
    "              \n",
    "        # find number of nodes  \n",
    "        # in this cycle and \n",
    "        # add it to ans \n",
    "        cycle_size = 0\n",
    "        j = i \n",
    "        while not vis[j]: \n",
    "              \n",
    "            # mark node as visited \n",
    "            vis[j] = True\n",
    "              \n",
    "            # move to next node \n",
    "            j = arrpos[j][0] \n",
    "            cycle_size += 1\n",
    "              \n",
    "        # update answer by adding \n",
    "        # current cycle \n",
    "        if cycle_size > 0: \n",
    "            ans += (cycle_size - 1) \n",
    "    # return answer \n",
    "    return ans \n",
    "  \n",
    "# Driver Code      \n",
    "arr = [1, 5, 4, 3, 2]\n",
    "minSwaps(arr)\n"
   ]
  },
  {
   "cell_type": "code",
   "execution_count": 3,
   "metadata": {},
   "outputs": [
    {
     "data": {
      "text/plain": [
       "[(0, 1), (1, 5), (2, 4), (3, 3), (4, 2)]"
      ]
     },
     "execution_count": 3,
     "metadata": {},
     "output_type": "execute_result"
    }
   ],
   "source": [
    "arrpos = [*enumerate(arr)]\n",
    "arrpos"
   ]
  },
  {
   "cell_type": "code",
   "execution_count": 10,
   "metadata": {},
   "outputs": [],
   "source": [
    "arrpos.sort(key = lambda x:x[1]) "
   ]
  },
  {
   "cell_type": "code",
   "execution_count": 9,
   "metadata": {},
   "outputs": [
    {
     "data": {
      "text/plain": [
       "[(0, 1), (1, 5), (2, 4), (3, 3), (4, 2)]"
      ]
     },
     "execution_count": 9,
     "metadata": {},
     "output_type": "execute_result"
    }
   ],
   "source": [
    "arrpos"
   ]
  },
  {
   "cell_type": "code",
   "execution_count": 12,
   "metadata": {},
   "outputs": [
    {
     "data": {
      "text/plain": [
       "{0: False, 1: False, 2: False, 3: False, 4: False}"
      ]
     },
     "execution_count": 12,
     "metadata": {},
     "output_type": "execute_result"
    }
   ],
   "source": [
    "n = len(arr) \n",
    "vis = {k:False for k in range(n)} \n",
    "vis"
   ]
  },
  {
   "cell_type": "code",
   "execution_count": 13,
   "metadata": {},
   "outputs": [],
   "source": [
    "ans = 0\n",
    "for i in range(n): \n",
    "\n",
    "    # alreadt swapped or  \n",
    "    # alreadt present at  \n",
    "    # correct position \n",
    "    if vis[i] or arrpos[i][0] == i: \n",
    "        continue\n",
    "\n",
    "    # find number of nodes  \n",
    "    # in this cycle and \n",
    "    # add it to ans \n",
    "    cycle_size = 0\n",
    "    j = i \n",
    "    while not vis[j]: \n",
    "\n",
    "        # mark node as visited \n",
    "        vis[j] = True\n",
    "\n",
    "        # move to next node \n",
    "        j = arrpos[j][0] \n",
    "        cycle_size += 1\n",
    "\n",
    "    # update answer by adding \n",
    "    # current cycle \n",
    "    if cycle_size > 0: \n",
    "        ans += (cycle_size - 1) \n"
   ]
  },
  {
   "cell_type": "code",
   "execution_count": 14,
   "metadata": {},
   "outputs": [
    {
     "data": {
      "text/plain": [
       "2"
      ]
     },
     "execution_count": 14,
     "metadata": {},
     "output_type": "execute_result"
    }
   ],
   "source": [
    "ans"
   ]
  },
  {
   "cell_type": "code",
   "execution_count": null,
   "metadata": {},
   "outputs": [],
   "source": []
  }
 ],
 "metadata": {
  "kernelspec": {
   "display_name": "Python 3",
   "language": "python",
   "name": "python3"
  },
  "language_info": {
   "codemirror_mode": {
    "name": "ipython",
    "version": 3
   },
   "file_extension": ".py",
   "mimetype": "text/x-python",
   "name": "python",
   "nbconvert_exporter": "python",
   "pygments_lexer": "ipython3",
   "version": "3.7.3"
  }
 },
 "nbformat": 4,
 "nbformat_minor": 2
}
