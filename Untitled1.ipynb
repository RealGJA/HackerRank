{
 "cells": [
  {
   "cell_type": "code",
   "execution_count": 26,
   "metadata": {},
   "outputs": [
    {
     "name": "stdout",
     "output_type": "stream",
     "text": [
      "2 4\n"
     ]
    }
   ],
   "source": [
    "m = 9\n",
    "arr = [1,3,4,6,7,9]\n",
    "\n",
    "cost = 0\n",
    "first = 0\n",
    "i = 0\n",
    "startpos = 1\n",
    "bool = False\n",
    "\n",
    "while i < len(arr):\n",
    "    if first == 0 and arr[i] <= m:\n",
    "        first = i+1\n",
    "        cost = arr[i]\n",
    "    for j in range(i+1,len(arr)):\n",
    "        if cost + arr[j] == m:\n",
    "            print(i+1,j+1)\n",
    "            break\n",
    "        #elif j == len(arr) - 1 and bool == False:\n",
    "            \n",
    "    first = 0\n",
    "    i+=1"
   ]
  },
  {
   "cell_type": "code",
   "execution_count": null,
   "metadata": {},
   "outputs": [],
   "source": []
  }
 ],
 "metadata": {
  "kernelspec": {
   "display_name": "Python 3",
   "language": "python",
   "name": "python3"
  },
  "language_info": {
   "codemirror_mode": {
    "name": "ipython",
    "version": 3
   },
   "file_extension": ".py",
   "mimetype": "text/x-python",
   "name": "python",
   "nbconvert_exporter": "python",
   "pygments_lexer": "ipython3",
   "version": "3.7.3"
  }
 },
 "nbformat": 4,
 "nbformat_minor": 2
}
