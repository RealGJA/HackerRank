{
 "cells": [
  {
   "cell_type": "code",
   "execution_count": 115,
   "metadata": {},
   "outputs": [
    {
     "name": "stdout",
     "output_type": "stream",
     "text": [
      "lemon, i: 0 count: 0\n",
      "apple, i: 0 j: 3 count: 1 inner_step: 0\n",
      "banana, i: 0 j: 3 count: 1 countletter: 1 s[k]: asa\n",
      "banana, i: 0 j: 3 count: 1 countletter: 2 s[k]: asa\n",
      "orange, i: 0 j: 3 count: 2\n",
      "apple, i: 0 j: 3 count: 2 inner_step: 1\n",
      "banana, i: 0 j: 3 count: 2 countletter: 1 s[k]: sas\n",
      "banana, i: 0 j: 3 count: 2 countletter: 2 s[k]: sas\n",
      "orange, i: 0 j: 3 count: 3\n",
      "apple, i: 0 j: 3 count: 3 inner_step: 2\n",
      "banana, i: 0 j: 3 count: 3 countletter: 1 s[k]: asd\n",
      "lemon, i: 1 count: 3\n",
      "apple, i: 1 j: 4 count: 4 inner_step: 0\n",
      "banana, i: 1 j: 4 count: 4 countletter: 1 s[k]: sas\n",
      "banana, i: 1 j: 4 count: 4 countletter: 2 s[k]: sas\n",
      "apple, i: 1 j: 4 count: 4 inner_step: 1\n",
      "banana, i: 1 j: 4 count: 4 countletter: 1 s[k]: asd\n",
      "lemon, i: 2 count: 4\n",
      "lemon, i: 3 count: 5\n",
      "lemon, i: 4 count: 6\n"
     ]
    }
   ],
   "source": [
    "s = \"asasd\"\n",
    "n = len(s)\n",
    "\n",
    "count = 0\n",
    "letter = \"\"\n",
    "countletter = 0\n",
    "steps = 0\n",
    "inner_step = 0\n",
    "\n",
    "for i in range(n):\n",
    "    print(\"lemon, i:\", i,\"count:\", count)\n",
    "    count += 1\n",
    "    while i - steps > 0:\n",
    "        if s[i-steps] == s[i] and s[i-1] == s[i] and i >= 1:\n",
    "            count += 1\n",
    "            print(\"pineapple\", i, count, steps)\n",
    "        steps = steps + 1\n",
    "    if i + 1 < n:\n",
    "        if s[i] != s[i+1]:\n",
    "            for j in range(3+i,n,2):\n",
    "                while j + inner_step <= n:\n",
    "                    print(\"apple, i:\", i,\"j:\", j,\"count:\", count, \"inner_step:\", inner_step)\n",
    "                    for k in range(i+inner_step,j+inner_step):\n",
    "                        letter = s[i+inner_step]\n",
    "                        if letter == s[k]:\n",
    "                            countletter = countletter + 1\n",
    "                            print(\"banana, i:\", i,\"j:\", j,\"count:\", count, \"countletter:\", countletter, \"s[k]:\", s[i+inner_step:j+inner_step])\n",
    "                    if countletter == j - 1:\n",
    "                        count += 1\n",
    "                        print(\"orange, i:\", i,\"j:\", j,\"count:\", count)\n",
    "                    countletter = 0\n",
    "                    inner_step = inner_step + 1\n",
    "    inner_step = 0\n",
    "    steps = 0\n",
    "            "
   ]
  },
  {
   "cell_type": "code",
   "execution_count": 116,
   "metadata": {},
   "outputs": [
    {
     "data": {
      "text/plain": [
       "7"
      ]
     },
     "execution_count": 116,
     "metadata": {},
     "output_type": "execute_result"
    }
   ],
   "source": [
    "count"
   ]
  },
  {
   "cell_type": "code",
   "execution_count": 35,
   "metadata": {},
   "outputs": [
    {
     "name": "stdout",
     "output_type": "stream",
     "text": [
      "0 3 0 a 1\n",
      "0 3 1 a 1\n",
      "0 3 2 a 2\n"
     ]
    }
   ],
   "source": [
    "for i in range(n):\n",
    "    count += 1\n",
    "    letter = s[i]\n",
    "    for j in range(3+i,n,2):\n",
    "        for k in range(i,j):\n",
    "            if letter == s[k]:\n",
    "                countletter = countletter + 1\n",
    "            print(i,j,k,letter,countletter)"
   ]
  },
  {
   "cell_type": "code",
   "execution_count": 119,
   "metadata": {},
   "outputs": [],
   "source": [
    "s = \"aaaa\"\n",
    "n = len(s)\n",
    "\n",
    "tot = 0\n",
    "count_sequence = 0\n",
    "prev = ''\n",
    "for i,v in enumerate(s):\n",
    "    # first increase counter for all seperate characters\n",
    "    count_sequence += 1\n",
    "    if i and (prev != v):\n",
    "        # if this is not the first char in the string \n",
    "        # and it is not same as previous char, \n",
    "        # we should check for sequence x.x, xx.xx, xxx.xxx etc\n",
    "        # and we know it cant be longer on the right side than\n",
    "        # the sequence we already found on the left side.\n",
    "        j = 1\n",
    "        while ((i-j) >= 0) and ((i+j) < len(s)) and j <= count_sequence:\n",
    "            # make sure the chars to the right and left are equal\n",
    "            # to the char in the previous found squence\n",
    "            if s[i-j] == prev == s[i+j]:\n",
    "                # if so increase total score and step one step further out\n",
    "                tot += 1\n",
    "                j += 1\n",
    "            else:\n",
    "                # no need to loop any further if this loop did \n",
    "                # not find an x.x  pattern\n",
    "                break\n",
    "        #if the current char is different from previous, reset counter to 1\n",
    "        count_sequence = 1  \n",
    "    tot += count_sequence            \n",
    "    prev = v"
   ]
  },
  {
   "cell_type": "code",
   "execution_count": 120,
   "metadata": {},
   "outputs": [
    {
     "data": {
      "text/plain": [
       "10"
      ]
     },
     "execution_count": 120,
     "metadata": {},
     "output_type": "execute_result"
    }
   ],
   "source": [
    "tot"
   ]
  },
  {
   "cell_type": "code",
   "execution_count": null,
   "metadata": {},
   "outputs": [],
   "source": []
  }
 ],
 "metadata": {
  "kernelspec": {
   "display_name": "Python 3",
   "language": "python",
   "name": "python3"
  },
  "language_info": {
   "codemirror_mode": {
    "name": "ipython",
    "version": 3
   },
   "file_extension": ".py",
   "mimetype": "text/x-python",
   "name": "python",
   "nbconvert_exporter": "python",
   "pygments_lexer": "ipython3",
   "version": "3.7.3"
  }
 },
 "nbformat": 4,
 "nbformat_minor": 2
}
