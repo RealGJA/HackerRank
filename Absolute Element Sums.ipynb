{
 "cells": [
  {
   "cell_type": "code",
   "execution_count": 11,
   "metadata": {},
   "outputs": [
    {
     "name": "stdout",
     "output_type": "stream",
     "text": [
      "[0, 3, -2]\n",
      "[2, 0, 3]\n",
      "[-2, 1, -4]\n",
      "[2, 4, 1]\n",
      "[1, 4, -1]\n",
      "[1, 1, 4]\n"
     ]
    },
    {
     "data": {
      "text/plain": [
       "[5, 7, 6]"
      ]
     },
     "execution_count": 11,
     "metadata": {},
     "output_type": "execute_result"
    }
   ],
   "source": [
    "import math\n",
    "import os\n",
    "import random\n",
    "import re\n",
    "import sys\n",
    "import numpy as np\n",
    "\n",
    "arr = [-1,2,-3] \n",
    "queries = [1,-2,3]\n",
    "\n",
    "ans = []\n",
    "for j in queries:\n",
    "    arr2 = []\n",
    "    arr = list(map(lambda x:x+j, arr))\n",
    "    arr2 = [-1*x for x in arr if x < 0] + [x for x in arr if x >= 0]\n",
    "    print(arr)\n",
    "    print(arr2)\n",
    "    ans.append(sum(arr2))\n",
    "ans"
   ]
  },
  {
   "cell_type": "code",
   "execution_count": null,
   "metadata": {},
   "outputs": [],
   "source": []
  }
 ],
 "metadata": {
  "kernelspec": {
   "display_name": "Python 3",
   "language": "python",
   "name": "python3"
  },
  "language_info": {
   "codemirror_mode": {
    "name": "ipython",
    "version": 3
   },
   "file_extension": ".py",
   "mimetype": "text/x-python",
   "name": "python",
   "nbconvert_exporter": "python",
   "pygments_lexer": "ipython3",
   "version": "3.7.3"
  }
 },
 "nbformat": 4,
 "nbformat_minor": 2
}
