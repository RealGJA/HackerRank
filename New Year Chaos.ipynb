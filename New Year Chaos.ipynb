{
 "cells": [
  {
   "cell_type": "code",
   "execution_count": 26,
   "metadata": {},
   "outputs": [],
   "source": [
    "q = [1,2,5,3,7,8,6,4]"
   ]
  },
  {
   "cell_type": "code",
   "execution_count": 47,
   "metadata": {},
   "outputs": [],
   "source": [
    "def minimumBribes(q):\n",
    "    \n",
    "    toochaotic = False\n",
    "    bribe = 0\n",
    "    tmp = 0\n",
    "    \n",
    "    for i in range(0,len(q)):\n",
    "        if (q[i] > i + 3 or q[i] < i - 3) and toochaotic == False:\n",
    "            print (\"too chaotic\")\n",
    "            toochaotic = True\n",
    "    i = 0\n",
    "    \n",
    "    if toochaotic == False:\n",
    "        while i < len(q):\n",
    "            if q[i] != i + 1:\n",
    "                bribe = bribe + 1\n",
    "                tmp = q[i]\n",
    "                q[i] = q[i+1]\n",
    "                q[i+1] = tmp\n",
    "                i = 0\n",
    "                print(\"i:\",i)\n",
    "            else:\n",
    "                i += 1\n",
    "        print(bribe)"
   ]
  },
  {
   "cell_type": "code",
   "execution_count": 46,
   "metadata": {},
   "outputs": [
    {
     "name": "stdout",
     "output_type": "stream",
     "text": [
      "q[i]: 2\n",
      "In If q[i]: 2\n",
      "bribe: 1\n",
      "i: 2\n",
      "q[i]: 5\n",
      "In If q[i]: 5\n",
      "bribe: 3\n",
      "i: 6\n",
      "3\n"
     ]
    }
   ],
   "source": [
    "minimumBribes(q)"
   ]
  },
  {
   "cell_type": "code",
   "execution_count": null,
   "metadata": {},
   "outputs": [],
   "source": []
  }
 ],
 "metadata": {
  "kernelspec": {
   "display_name": "Python 3",
   "language": "python",
   "name": "python3"
  },
  "language_info": {
   "codemirror_mode": {
    "name": "ipython",
    "version": 3
   },
   "file_extension": ".py",
   "mimetype": "text/x-python",
   "name": "python",
   "nbconvert_exporter": "python",
   "pygments_lexer": "ipython3",
   "version": "3.7.3"
  }
 },
 "nbformat": 4,
 "nbformat_minor": 2
}
