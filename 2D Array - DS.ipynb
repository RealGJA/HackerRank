{
 "cells": [
  {
   "cell_type": "code",
   "execution_count": 65,
   "metadata": {},
   "outputs": [
    {
     "data": {
      "text/plain": [
       "9"
      ]
     },
     "execution_count": 65,
     "metadata": {},
     "output_type": "execute_result"
    }
   ],
   "source": [
    "#arr = [[-9,-9,-9,1,1,1],[0,-9,0,4,3,2],[-9,-9,-9,1,2,3],[0,0,8,6,6,0],[0,0,0,-2,0,0],[0,0,1,2,4,0]]\n",
    "\n",
    "def hourglassSum(arr):\n",
    "\n",
    "    maxnum = -99\n",
    "    sumnum = 0\n",
    "\n",
    "    for i in range (0,len(arr)-2):\n",
    "        for j in range(i,len(arr)-2):\n",
    "            for k in range(i,i+3):\n",
    "                for l in range (j,j+3):\n",
    "                    if k == i + 1 and l in (j,j+2):\n",
    "                        continue\n",
    "                    else:\n",
    "                        sumnum = sumnum + arr[k][l]\n",
    "            maxnum = max(maxnum,sumnum)\n",
    "            sumnum = 0\n",
    "    return maxnum\n",
    "\n",
    "hourglassSum(arr)"
   ]
  },
  {
   "cell_type": "code",
   "execution_count": 2,
   "metadata": {},
   "outputs": [],
   "source": [
    "arr = [[1,1,1,0,0,0],[0,1,0,0,0,0],[1,1,1,0,0,0],[0,9,2,-4,-4,0],[0,0,0,-2,0,0],[0,0,-1,-2,-4,0]]"
   ]
  },
  {
   "cell_type": "code",
   "execution_count": 3,
   "metadata": {},
   "outputs": [
    {
     "name": "stdout",
     "output_type": "stream",
     "text": [
      "0 0\n",
      "0 1\n",
      "0 2\n",
      "1 1\n",
      "2 0\n",
      "2 1\n",
      "2 2\n",
      "next hourglass: 7\n",
      "0 1\n",
      "0 2\n",
      "0 3\n",
      "1 2\n",
      "2 1\n",
      "2 2\n",
      "2 3\n",
      "next hourglass: 4\n",
      "0 2\n",
      "0 3\n",
      "0 4\n",
      "1 3\n",
      "2 2\n",
      "2 3\n",
      "2 4\n",
      "next hourglass: 2\n",
      "0 3\n",
      "0 4\n",
      "0 5\n",
      "1 4\n",
      "2 3\n",
      "2 4\n",
      "2 5\n",
      "next hourglass: 0\n",
      "1 0\n",
      "1 1\n",
      "1 2\n",
      "2 1\n",
      "3 0\n",
      "3 1\n",
      "3 2\n",
      "next hourglass: 13\n",
      "1 1\n",
      "1 2\n",
      "1 3\n",
      "2 2\n",
      "3 1\n",
      "3 2\n",
      "3 3\n",
      "next hourglass: 9\n",
      "1 2\n",
      "1 3\n",
      "1 4\n",
      "2 3\n",
      "3 2\n",
      "3 3\n",
      "3 4\n",
      "next hourglass: -6\n",
      "1 3\n",
      "1 4\n",
      "1 5\n",
      "2 4\n",
      "3 3\n",
      "3 4\n",
      "3 5\n",
      "next hourglass: -8\n",
      "2 0\n",
      "2 1\n",
      "2 2\n",
      "3 1\n",
      "4 0\n",
      "4 1\n",
      "4 2\n",
      "next hourglass: 12\n",
      "2 1\n",
      "2 2\n",
      "2 3\n",
      "3 2\n",
      "4 1\n",
      "4 2\n",
      "4 3\n",
      "next hourglass: 2\n",
      "2 2\n",
      "2 3\n",
      "2 4\n",
      "3 3\n",
      "4 2\n",
      "4 3\n",
      "4 4\n",
      "next hourglass: -5\n",
      "2 3\n",
      "2 4\n",
      "2 5\n",
      "3 4\n",
      "4 3\n",
      "4 4\n",
      "4 5\n",
      "next hourglass: -6\n",
      "3 0\n",
      "3 1\n",
      "3 2\n",
      "4 1\n",
      "5 0\n",
      "5 1\n",
      "5 2\n",
      "next hourglass: 10\n",
      "3 1\n",
      "3 2\n",
      "3 3\n",
      "4 2\n",
      "5 1\n",
      "5 2\n",
      "5 3\n",
      "next hourglass: 4\n",
      "3 2\n",
      "3 3\n",
      "3 4\n",
      "4 3\n",
      "5 2\n",
      "5 3\n",
      "5 4\n",
      "next hourglass: -15\n",
      "3 3\n",
      "3 4\n",
      "3 5\n",
      "4 4\n",
      "5 3\n",
      "5 4\n",
      "5 5\n",
      "next hourglass: -14\n"
     ]
    }
   ],
   "source": [
    "maxnum = -99\n",
    "sumnum = 0\n",
    "lst = []\n",
    "\n",
    "for i in range (0,len(arr)-2):\n",
    "    for j in range(0,len(arr)-2):\n",
    "        for k in range(i,i+3):\n",
    "            for l in range (j,j+3):\n",
    "                if k == i + 1 and l in (j,j+2):\n",
    "                    continue\n",
    "                else:\n",
    "                    print(k,l)\n",
    "                    sumnum = sumnum + arr[k][l]\n",
    "        lst.append(sumnum)\n",
    "        print(\"next hourglass:\", sumnum)\n",
    "        sumnum = 0"
   ]
  },
  {
   "cell_type": "code",
   "execution_count": 6,
   "metadata": {},
   "outputs": [
    {
     "data": {
      "text/plain": [
       "[[-9, -9, -9, 1, 1, 1],\n",
       " [0, -9, 0, 4, 3, 2],\n",
       " [-9, -9, -9, 1, 2, 3],\n",
       " [0, 0, 8, 6, 6, 0],\n",
       " [0, 0, 0, -2, 0, 0],\n",
       " [0, 0, 1, 2, 4, 0]]"
      ]
     },
     "execution_count": 6,
     "metadata": {},
     "output_type": "execute_result"
    }
   ],
   "source": [
    "arr"
   ]
  },
  {
   "cell_type": "code",
   "execution_count": 52,
   "metadata": {},
   "outputs": [
    {
     "name": "stdout",
     "output_type": "stream",
     "text": [
      "0 0\n",
      "0 1\n",
      "0 2\n",
      "next hourglass\n",
      "1 1\n",
      "next hourglass\n",
      "2 0\n",
      "2 1\n",
      "2 2\n",
      "next hourglass\n",
      "3 0\n",
      "3 1\n",
      "3 2\n",
      "next hourglass\n",
      "4 0\n",
      "4 1\n",
      "4 2\n",
      "next hourglass\n",
      "5 0\n",
      "5 1\n",
      "5 2\n",
      "next hourglass\n"
     ]
    }
   ],
   "source": [
    "arr2 = []\n",
    "\n",
    "for i in range(0,len(arr) - 2):\n",
    "    for j in range(0,len(arr) - 2):\n",
    "        for k in range(i,i+3):\n",
    "            for l in range (j,j+3):\n",
    "            \n",
    "            arr2.append[arr[i,j]]\n",
    "            "
   ]
  },
  {
   "cell_type": "code",
   "execution_count": 55,
   "metadata": {},
   "outputs": [
    {
     "name": "stdout",
     "output_type": "stream",
     "text": [
      "1 1\n",
      "1 2\n",
      "1 3\n",
      "2 2\n",
      "3 1\n",
      "3 2\n",
      "3 3\n"
     ]
    }
   ],
   "source": [
    "i = 1\n",
    "j = 1\n",
    "for k in range(i,i+3):\n",
    "    for l in range (j,j+3):\n",
    "        if k == i + 1 and l in (j,j+2):\n",
    "            continue\n",
    "        else:\n",
    "            print(k,l)"
   ]
  },
  {
   "cell_type": "code",
   "execution_count": 6,
   "metadata": {},
   "outputs": [
    {
     "data": {
      "text/plain": [
       "13"
      ]
     },
     "execution_count": 6,
     "metadata": {},
     "output_type": "execute_result"
    }
   ],
   "source": [
    "max(lst)"
   ]
  },
  {
   "cell_type": "code",
   "execution_count": null,
   "metadata": {},
   "outputs": [],
   "source": []
  }
 ],
 "metadata": {
  "kernelspec": {
   "display_name": "Python 3",
   "language": "python",
   "name": "python3"
  },
  "language_info": {
   "codemirror_mode": {
    "name": "ipython",
    "version": 3
   },
   "file_extension": ".py",
   "mimetype": "text/x-python",
   "name": "python",
   "nbconvert_exporter": "python",
   "pygments_lexer": "ipython3",
   "version": "3.7.3"
  }
 },
 "nbformat": 4,
 "nbformat_minor": 2
}
