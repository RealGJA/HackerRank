{
 "cells": [
  {
   "cell_type": "code",
   "execution_count": 22,
   "metadata": {},
   "outputs": [
    {
     "name": "stdout",
     "output_type": "stream",
     "text": [
      "1 2\n",
      "2 3\n",
      "3 6\n",
      "4 7\n",
      "5 14\n",
      "14\n"
     ]
    }
   ],
   "source": [
    "n = 5\n",
    "\n",
    "num = 1\n",
    "#if n >= 2:\n",
    "for i in range(1,n+1,1):\n",
    "    if (i-1) % 2 == 0:\n",
    "        num = num *2\n",
    "        print(i,num)\n",
    "    elif (i-1) % 2 == 1:\n",
    "        num = num +1\n",
    "        print(i,num)\n",
    "#elif n == 1:\n",
    "#    num = 2\n",
    "\n",
    "print(num)"
   ]
  },
  {
   "cell_type": "code",
   "execution_count": null,
   "metadata": {},
   "outputs": [],
   "source": []
  }
 ],
 "metadata": {
  "kernelspec": {
   "display_name": "Python 3",
   "language": "python",
   "name": "python3"
  },
  "language_info": {
   "codemirror_mode": {
    "name": "ipython",
    "version": 3
   },
   "file_extension": ".py",
   "mimetype": "text/x-python",
   "name": "python",
   "nbconvert_exporter": "python",
   "pygments_lexer": "ipython3",
   "version": "3.7.3"
  }
 },
 "nbformat": 4,
 "nbformat_minor": 2
}
